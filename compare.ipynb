{
 "cells": [
  {
   "cell_type": "code",
   "execution_count": 1,
   "id": "eca0a48d-160b-49c3-b4fa-2f75debe58d1",
   "metadata": {},
   "outputs": [],
   "source": [
    "import pandas as pd\n",
    "import seaborn as sns\n",
    "import matplotlib.pyplot as plt"
   ]
  },
  {
   "cell_type": "code",
   "execution_count": 2,
   "id": "b38ec651-c1e2-4dc0-8a49-f0bdb045c328",
   "metadata": {},
   "outputs": [],
   "source": [
    "df = pd.read_csv('data/compare.csv')"
   ]
  },
  {
   "cell_type": "code",
   "execution_count": 3,
   "id": "5a96cc8a-b36e-46ce-a65e-267406dd7209",
   "metadata": {},
   "outputs": [
    {
     "name": "stdout",
     "output_type": "stream",
     "text": [
      "mt vs oracle\n",
      "            & Size & Energy mt & Energy oracle & Runtime mt & Runtime oracle \\\\\\hline\n",
      "w/o pinning &  500 & 2.0837 & 2.0363 & 0.0486 & 0.0472 \\\\\n",
      "            &  750 & 6.9400 & 6.8811 & 0.1578 & 0.1556 \\\\\n",
      "            & 1000 & 18.1199 & 17.9166 & 0.4153 & 0.4115 \\\\\n",
      "            & 1250 & 39.5360 & 37.0410 & 1.0112 & 0.8792 \\\\\n",
      "w/ pinning  &  500 & 2.0928 & 2.0328 & 0.0502 & 0.0473 \\\\\n",
      "            &  750 & 7.0418 & 6.9991 & 0.1657 & 0.1588 \\\\\n",
      "            & 1000 & 18.2498 & 17.9851 & 0.4334 & 0.4119 \\\\\n",
      "            & 1250 & 40.3193 & 38.9926 & 1.0063 & 0.9381 \\\\\n",
      "\n",
      "mt vs rt\n",
      "            & Size & Energy mt & Energy rt & Runtime mt & Runtime rt \\\\\\hline\n",
      "w/o pinning &  500 & 2.0837 & 2.0674 & 0.0486 & 0.0477 \\\\\n",
      "            &  750 & 6.9400 & 6.9356 & 0.1578 & 0.1562 \\\\\n",
      "            & 1000 & 18.1199 & 17.9706 & 0.4153 & 0.4116 \\\\\n",
      "            & 1250 & 39.5360 & 42.3187 & 1.0112 & 1.0237 \\\\\n",
      "w/ pinning  &  500 & 2.0928 & 2.0660 & 0.0502 & 0.0480 \\\\\n",
      "            &  750 & 7.0418 & 6.8228 & 0.1657 & 0.1542 \\\\\n",
      "            & 1000 & 18.2498 & 18.0709 & 0.4334 & 0.4144 \\\\\n",
      "            & 1250 & 40.3193 & 42.1977 & 1.0063 & 1.0149 \\\\\n"
     ]
    }
   ],
   "source": [
    "def totals(lhs, rhs):\n",
    "    print(lhs, 'vs', rhs)\n",
    "    x = df[df['type'] == lhs].copy().reset_index(drop=True)\n",
    "    y = df[df['type'] == rhs].copy().reset_index(drop=True)\n",
    "\n",
    "    print(f'            & Size & Energy {lhs} & Energy {rhs} & Runtime {lhs} & Runtime {rhs} \\\\\\\\\\\\hline')\n",
    "    \n",
    "    prev = None\n",
    "    for (_,x), (_,y) in zip(x.iterrows(), y.iterrows()):\n",
    "        if prev != x['pin']:\n",
    "            pin = 'w/ pinning' if x['pin'] else 'w/o pinning'\n",
    "        else:\n",
    "            pin = ''\n",
    "        prev = x['pin']\n",
    "        print(f'{pin:<11} & {x['size']:>4} & {x['energy']:.4f} & {y['energy']:.4f} & {x['runtime']:.4f} & {y['runtime']:.4f} \\\\\\\\')\n",
    "\n",
    "totals('mt', 'oracle')\n",
    "print()\n",
    "totals('mt', 'rt')"
   ]
  },
  {
   "cell_type": "code",
   "execution_count": 6,
   "id": "9a178cca-a362-4080-8aa8-6a7dc0eb2dec",
   "metadata": {},
   "outputs": [
    {
     "name": "stdout",
     "output_type": "stream",
     "text": [
      "oracle vs mt\n",
      "            & Size & Energy & Runtime \\\\\\hline\n",
      "w/o pinning &  500 &    3\\% &     3\\% \\\\\n",
      "            &  750 &    1\\% &     2\\% \\\\\n",
      "            & 1000 &    2\\% &     1\\% \\\\\n",
      "            & 1250 &    7\\% &    14\\% \\\\\n",
      "w/ pinning  &  500 &    3\\% &     6\\% \\\\\n",
      "            &  750 &    1\\% &     5\\% \\\\\n",
      "            & 1000 &    2\\% &     5\\% \\\\\n",
      "            & 1250 &    4\\% &     7\\% \\\\\n",
      "Energy avg speedup: 2.875%\n",
      "Runtime avg speedup: 5.375%\n",
      "\n",
      "mt vs rt\n",
      "            & Size & Energy & Runtime \\\\\\hline\n",
      "w/o pinning &  500 &    0\\% &    -1\\% \\\\\n",
      "            &  750 &    0\\% &    -1\\% \\\\\n",
      "            & 1000 &    0\\% &     0\\% \\\\\n",
      "            & 1250 &    7\\% &     2\\% \\\\\n",
      "w/ pinning  &  500 &   -1\\% &    -4\\% \\\\\n",
      "            &  750 &   -3\\% &    -7\\% \\\\\n",
      "            & 1000 &    0\\% &    -4\\% \\\\\n",
      "            & 1250 &    5\\% &     1\\% \\\\\n",
      "Energy avg speedup: 1.0%\n",
      "Runtime avg speedup: -1.75%\n"
     ]
    }
   ],
   "source": [
    "def compare(lhs, rhs):\n",
    "    print(lhs, 'vs', rhs)\n",
    "    x = df[df['type'] == lhs].copy().reset_index(drop=True)\n",
    "    y = df[df['type'] == rhs].copy().reset_index(drop=True)\n",
    "\n",
    "    runtime_total = 0\n",
    "    energy_total = 0\n",
    "    length = 0\n",
    "\n",
    "    print('            & Size & Energy & Runtime \\\\\\\\\\\\hline')\n",
    "\n",
    "    prev = None\n",
    "    for (_,x), (_,y) in zip(x.iterrows(), y.iterrows()):\n",
    "        if prev != x['pin']:\n",
    "            pin = 'w/ pinning' if x['pin'] else 'w/o pinning'\n",
    "        else:\n",
    "            pin = ''\n",
    "        prev = x['pin']\n",
    "        \n",
    "        size = x['size']\n",
    "        energy_speedup = 100 - int(x['energy'] / y['energy'] * 100)\n",
    "        runtime_speedup = 100 - int(x['runtime'] / y['runtime'] * 100)\n",
    "        energy_total += energy_speedup\n",
    "        runtime_total += runtime_speedup\n",
    "        length += 1\n",
    "        print(f'{pin:<11} & {size:>4} & {energy_speedup:>4}\\\\% & {runtime_speedup:>5}\\\\% \\\\\\\\')\n",
    "\n",
    "    print(f'Energy avg speedup: {energy_total / length}%')\n",
    "    print(f'Runtime avg speedup: {runtime_total / length}%')\n",
    "\n",
    "compare('oracle', 'mt')\n",
    "print()\n",
    "compare('mt', 'rt')"
   ]
  },
  {
   "cell_type": "code",
   "execution_count": null,
   "id": "5eae74ac-aac1-4592-9c85-b38d0fe31088",
   "metadata": {},
   "outputs": [],
   "source": []
  }
 ],
 "metadata": {
  "kernelspec": {
   "display_name": "Python 3 (ipykernel)",
   "language": "python",
   "name": "python3"
  },
  "language_info": {
   "codemirror_mode": {
    "name": "ipython",
    "version": 3
   },
   "file_extension": ".py",
   "mimetype": "text/x-python",
   "name": "python",
   "nbconvert_exporter": "python",
   "pygments_lexer": "ipython3",
   "version": "3.12.3"
  }
 },
 "nbformat": 4,
 "nbformat_minor": 5
}
