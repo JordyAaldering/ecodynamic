{
 "cells": [
  {
   "cell_type": "code",
   "execution_count": 1,
   "id": "eca0a48d-160b-49c3-b4fa-2f75debe58d1",
   "metadata": {},
   "outputs": [],
   "source": [
    "import pandas as pd\n",
    "import seaborn as sns\n",
    "import matplotlib.pyplot as plt"
   ]
  },
  {
   "cell_type": "code",
   "execution_count": 2,
   "id": "b38ec651-c1e2-4dc0-8a49-f0bdb045c328",
   "metadata": {},
   "outputs": [],
   "source": [
    "df = pd.read_csv('data/compare.csv')"
   ]
  },
  {
   "cell_type": "code",
   "execution_count": 3,
   "id": "5a96cc8a-b36e-46ce-a65e-267406dd7209",
   "metadata": {},
   "outputs": [
    {
     "name": "stdout",
     "output_type": "stream",
     "text": [
      "mt vs oracle\n",
      "            & Size & Energy mt & Energy oracle & Runtime mt & Runtime oracle \\\\\\hline\n",
      "w/o pinning &  500 & 2.0995 & 2.1188 & 0.0482 & 0.0482 \\\\\n",
      "            &  750 & 7.0102 & 6.9459 & 0.1579 & 0.1551 \\\\\n",
      "            & 1000 & 18.2728 & 18.0472 & 0.4156 & 0.4101 \\\\\n",
      "            & 1250 & 39.4196 & 37.4761 & 1.0062 & 0.8835 \\\\\n",
      "w/ pinning  &  500 & 2.1200 & 2.0876 & 0.0500 & 0.0476 \\\\\n",
      "            &  750 & 7.0032 & 6.8397 & 0.1625 & 0.1541 \\\\\n",
      "            & 1000 & 18.3348 & 18.1488 & 0.4350 & 0.4134 \\\\\n",
      "            & 1250 & 40.4645 & 39.2312 & 1.0048 & 0.9306 \\\\\n",
      "\n",
      "mt vs rt\n",
      "            & Size & Energy mt & Energy rt & Runtime mt & Runtime rt \\\\\\hline\n",
      "w/o pinning &  500 & 2.0995 & 2.1643 & 0.0482 & 0.0487 \\\\\n",
      "            &  750 & 7.0102 & 6.9735 & 0.1579 & 0.1551 \\\\\n",
      "            & 1000 & 18.2728 & 18.1546 & 0.4156 & 0.4124 \\\\\n",
      "            & 1250 & 39.4196 & 42.0815 & 1.0062 & 1.0015 \\\\\n",
      "w/ pinning  &  500 & 2.1200 & 2.0997 & 0.0500 & 0.0479 \\\\\n",
      "            &  750 & 7.0032 & 6.8845 & 0.1625 & 0.1540 \\\\\n",
      "            & 1000 & 18.3348 & 17.9677 & 0.4350 & 0.4108 \\\\\n",
      "            & 1250 & 40.4645 & 42.9425 & 1.0048 & 1.0227 \\\\\n"
     ]
    }
   ],
   "source": [
    "def totals(lhs, rhs):\n",
    "    print(lhs, 'vs', rhs)\n",
    "    x = df[df['type'] == lhs].copy().reset_index(drop=True)\n",
    "    y = df[df['type'] == rhs].copy().reset_index(drop=True)\n",
    "\n",
    "    print(f'            & Size & Energy {lhs} & Energy {rhs} & Runtime {lhs} & Runtime {rhs} \\\\\\\\\\\\hline')\n",
    "    \n",
    "    prev = None\n",
    "    for (_,x), (_,y) in zip(x.iterrows(), y.iterrows()):\n",
    "        if prev != x['pin']:\n",
    "            pin = 'w/ pinning' if x['pin'] else 'w/o pinning'\n",
    "        else:\n",
    "            pin = ''\n",
    "        prev = x['pin']\n",
    "        print(f'{pin:<11} & {x['size']:>4} & {x['energy']:.4f} & {y['energy']:.4f} & {x['runtime']:.4f} & {y['runtime']:.4f} \\\\\\\\')\n",
    "\n",
    "totals('mt', 'oracle')\n",
    "print()\n",
    "totals('mt', 'rt')"
   ]
  },
  {
   "cell_type": "code",
   "execution_count": 4,
   "id": "9a178cca-a362-4080-8aa8-6a7dc0eb2dec",
   "metadata": {},
   "outputs": [
    {
     "name": "stdout",
     "output_type": "stream",
     "text": [
      "oracle vs mt\n",
      "            & Size & Energy & Runtime \\\\\\hline\n",
      "w/o pinning &  500 &    0\\% &     0\\% \\\\\n",
      "            &  750 &    1\\% &     2\\% \\\\\n",
      "            & 1000 &    2\\% &     2\\% \\\\\n",
      "            & 1250 &    5\\% &    13\\% \\\\\n",
      "w/ pinning  &  500 &    2\\% &     5\\% \\\\\n",
      "            &  750 &    3\\% &     6\\% \\\\\n",
      "            & 1000 &    2\\% &     5\\% \\\\\n",
      "            & 1250 &    4\\% &     8\\% \\\\\n",
      "Energy avg speedup: 2.375%\n",
      "Runtime avg speedup: 5.125%\n",
      "\n",
      "mt vs rt\n",
      "            & Size & Energy & Runtime \\\\\\hline\n",
      "w/o pinning &  500 &    3\\% &     1\\% \\\\\n",
      "            &  750 &    0\\% &    -1\\% \\\\\n",
      "            & 1000 &    0\\% &     0\\% \\\\\n",
      "            & 1250 &    7\\% &     0\\% \\\\\n",
      "w/ pinning  &  500 &    0\\% &    -4\\% \\\\\n",
      "            &  750 &   -1\\% &    -5\\% \\\\\n",
      "            & 1000 &   -2\\% &    -5\\% \\\\\n",
      "            & 1250 &    6\\% &     2\\% \\\\\n",
      "Energy avg speedup: 1.625%\n",
      "Runtime avg speedup: -1.5%\n"
     ]
    }
   ],
   "source": [
    "def compare(lhs, rhs):\n",
    "    print(lhs, 'vs', rhs)\n",
    "    x = df[df['type'] == lhs].copy().reset_index(drop=True)\n",
    "    y = df[df['type'] == rhs].copy().reset_index(drop=True)\n",
    "\n",
    "    runtime_total = 0\n",
    "    energy_total = 0\n",
    "    length = 0\n",
    "\n",
    "    print('            & Size & Energy & Runtime \\\\\\\\\\\\hline')\n",
    "\n",
    "    prev = None\n",
    "    for (_,x), (_,y) in zip(x.iterrows(), y.iterrows()):\n",
    "        if prev != x['pin']:\n",
    "            pin = 'w/ pinning' if x['pin'] else 'w/o pinning'\n",
    "        else:\n",
    "            pin = ''\n",
    "        prev = x['pin']\n",
    "        \n",
    "        size = x['size']\n",
    "        energy_speedup = 100 - int(x['energy'] / y['energy'] * 100)\n",
    "        runtime_speedup = 100 - int(x['runtime'] / y['runtime'] * 100)\n",
    "        energy_total += energy_speedup\n",
    "        runtime_total += runtime_speedup\n",
    "        length += 1\n",
    "        print(f'{pin:<11} & {size:>4} & {energy_speedup:>4}\\\\% & {runtime_speedup:>5}\\\\% \\\\\\\\')\n",
    "\n",
    "    print(f'Energy avg speedup: {energy_total / length}%')\n",
    "    print(f'Runtime avg speedup: {runtime_total / length}%')\n",
    "\n",
    "compare('oracle', 'mt')\n",
    "print()\n",
    "compare('mt', 'rt')"
   ]
  },
  {
   "cell_type": "code",
   "execution_count": null,
   "id": "5eae74ac-aac1-4592-9c85-b38d0fe31088",
   "metadata": {},
   "outputs": [],
   "source": []
  }
 ],
 "metadata": {
  "kernelspec": {
   "display_name": "Python 3 (ipykernel)",
   "language": "python",
   "name": "python3"
  },
  "language_info": {
   "codemirror_mode": {
    "name": "ipython",
    "version": 3
   },
   "file_extension": ".py",
   "mimetype": "text/x-python",
   "name": "python",
   "nbconvert_exporter": "python",
   "pygments_lexer": "ipython3",
   "version": "3.12.3"
  }
 },
 "nbformat": 4,
 "nbformat_minor": 5
}
