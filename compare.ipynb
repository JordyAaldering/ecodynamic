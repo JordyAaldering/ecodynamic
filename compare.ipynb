{
 "cells": [
  {
   "cell_type": "code",
   "execution_count": 1,
   "id": "eca0a48d-160b-49c3-b4fa-2f75debe58d1",
   "metadata": {},
   "outputs": [],
   "source": [
    "import pandas as pd\n",
    "import seaborn as sns\n",
    "import matplotlib.pyplot as plt"
   ]
  },
  {
   "cell_type": "code",
   "execution_count": 2,
   "id": "b38ec651-c1e2-4dc0-8a49-f0bdb045c328",
   "metadata": {},
   "outputs": [],
   "source": [
    "df = pd.read_csv('data/compare.csv')"
   ]
  },
  {
   "cell_type": "code",
   "execution_count": 3,
   "id": "5a96cc8a-b36e-46ce-a65e-267406dd7209",
   "metadata": {},
   "outputs": [
    {
     "name": "stdout",
     "output_type": "stream",
     "text": [
      "mt vs oracle\n",
      "            & Size & Energy mt & Energy oracle & Runtime mt & Runtime oracle \\\\\\hline\n",
      "w/o pinning &  500 & 2.0948 & 2.0838 & 0.0482 & 0.0475 \\\\\n",
      "            &  750 & 6.9829 & 6.9105 & 0.1580 & 0.1549 \\\\\n",
      "            & 1000 & 18.2141 & 18.1227 & 0.4148 & 0.4121 \\\\\n",
      "            & 1250 & 39.3979 & 37.4090 & 1.0023 & 0.8822 \\\\\n",
      "            & 1500 & 74.1046 & 69.0180 & 1.9188 & 1.6359 \\\\\n",
      "            & 1750 & 118.5618 & 108.2987 & 3.0172 & 2.5262 \\\\\n",
      "w/ pinning  &  500 & 2.1296 & 2.0920 & 0.0511 & 0.0481 \\\\\n",
      "            &  750 & 6.9759 & 6.8258 & 0.1626 & 0.1539 \\\\\n",
      "            & 1000 & 18.2552 & 17.9574 & 0.4320 & 0.4099 \\\\\n",
      "            & 1250 & 40.5026 & 39.4538 & 1.0059 & 0.9435 \\\\\n",
      "            & 1500 & 80.4513 & 75.6410 & 2.1027 & 1.8773 \\\\\n",
      "            & 1750 & 130.9199 & 124.7920 & 3.3802 & 3.0941 \\\\\n",
      "\n",
      "mt vs rt\n",
      "            & Size & Energy mt & Energy rt & Runtime mt & Runtime rt \\\\\\hline\n",
      "w/o pinning &  500 & 2.0948 & 2.1166 & 0.0482 & 0.0481 \\\\\n",
      "            &  750 & 6.9829 & 6.9604 & 0.1580 & 0.1559 \\\\\n",
      "            & 1000 & 18.2141 & 18.7292 & 0.4148 & 0.4266 \\\\\n",
      "            & 1250 & 39.3979 & 42.9813 & 1.0023 & 1.0325 \\\\\n",
      "            & 1500 & 74.1046 & 91.9053 & 1.9188 & 2.3436 \\\\\n",
      "            & 1750 & 118.5618 & 143.8716 & 3.0172 & 3.5335 \\\\\n",
      "w/ pinning  &  500 & 2.1296 & 2.0763 & 0.0511 & 0.0476 \\\\\n",
      "            &  750 & 6.9759 & 6.9449 & 0.1626 & 0.1560 \\\\\n",
      "            & 1000 & 18.2552 & 18.0234 & 0.4320 & 0.4111 \\\\\n",
      "            & 1250 & 40.5026 & 42.7037 & 1.0059 & 1.0201 \\\\\n",
      "            & 1500 & 80.4513 & 90.9593 & 2.1027 & 2.3116 \\\\\n",
      "            & 1750 & 130.9199 & 143.8724 & 3.3802 & 3.5288 \\\\\n"
     ]
    }
   ],
   "source": [
    "def totals(lhs, rhs):\n",
    "    print(lhs, 'vs', rhs)\n",
    "    x = df[df['type'] == lhs].copy().reset_index(drop=True)\n",
    "    y = df[df['type'] == rhs].copy().reset_index(drop=True)\n",
    "\n",
    "    print(f'            & Size & Energy {lhs} & Energy {rhs} & Runtime {lhs} & Runtime {rhs} \\\\\\\\\\\\hline')\n",
    "    \n",
    "    prev = None\n",
    "    for (_,x), (_,y) in zip(x.iterrows(), y.iterrows()):\n",
    "        if prev != x['pin']:\n",
    "            pin = 'w/ pinning' if x['pin'] else 'w/o pinning'\n",
    "        else:\n",
    "            pin = ''\n",
    "        prev = x['pin']\n",
    "        print(f'{pin:<11} & {x['size']:>4} & {x['energy']:.4f} & {y['energy']:.4f} & {x['runtime']:.4f} & {y['runtime']:.4f} \\\\\\\\')\n",
    "\n",
    "totals('mt', 'oracle')\n",
    "print()\n",
    "totals('mt', 'rt')"
   ]
  },
  {
   "cell_type": "code",
   "execution_count": 6,
   "id": "9a178cca-a362-4080-8aa8-6a7dc0eb2dec",
   "metadata": {},
   "outputs": [
    {
     "name": "stdout",
     "output_type": "stream",
     "text": [
      "oracle vs mt\n",
      "            & Size & Energy & Runtime \\\\\\hline\n",
      "w/o pinning &  500 &    1\\% &     2\\% \\\\\n",
      "            &  750 &    2\\% &     2\\% \\\\\n",
      "            & 1000 &    1\\% &     1\\% \\\\\n",
      "            & 1250 &    6\\% &    12\\% \\\\\n",
      "            & 1500 &    7\\% &    15\\% \\\\\n",
      "            & 1750 &    9\\% &    17\\% \\\\\n",
      "w/ pinning  &  500 &    2\\% &     7\\% \\\\\n",
      "            &  750 &    3\\% &     6\\% \\\\\n",
      "            & 1000 &    2\\% &     6\\% \\\\\n",
      "            & 1250 &    3\\% &     7\\% \\\\\n",
      "            & 1500 &    6\\% &    11\\% \\\\\n",
      "            & 1750 &    5\\% &     9\\% \\\\\n",
      "Energy avg speedup: 3.9166666666666665%\n",
      "Runtime avg speedup: 7.916666666666667%\n",
      "\n",
      "mt vs rt\n",
      "            & Size & Energy & Runtime \\\\\\hline\n",
      "w/o pinning &  500 &    2\\% &     0\\% \\\\\n",
      "            &  750 &    0\\% &    -1\\% \\\\\n",
      "            & 1000 &    3\\% &     3\\% \\\\\n",
      "            & 1250 &    9\\% &     3\\% \\\\\n",
      "            & 1500 &   20\\% &    19\\% \\\\\n",
      "            & 1750 &   18\\% &    15\\% \\\\\n",
      "w/ pinning  &  500 &   -2\\% &    -7\\% \\\\\n",
      "            &  750 &    0\\% &    -4\\% \\\\\n",
      "            & 1000 &   -1\\% &    -5\\% \\\\\n",
      "            & 1250 &    6\\% &     2\\% \\\\\n",
      "            & 1500 &   12\\% &    10\\% \\\\\n",
      "            & 1750 &   10\\% &     5\\% \\\\\n",
      "Energy avg speedup: 6.416666666666667%\n",
      "Runtime avg speedup: 3.3333333333333335%\n"
     ]
    }
   ],
   "source": [
    "def compare(lhs, rhs):\n",
    "    print(lhs, 'vs', rhs)\n",
    "    x = df[df['type'] == lhs].copy().reset_index(drop=True)\n",
    "    y = df[df['type'] == rhs].copy().reset_index(drop=True)\n",
    "    \n",
    "    #x = df[(df['type'] == lhs) & (df['size'] <= 1250)].copy().reset_index(drop=True)\n",
    "    #y = df[(df['type'] == rhs) & (df['size'] <= 1250)].copy().reset_index(drop=True)\n",
    "\n",
    "    runtime_total = 0\n",
    "    energy_total = 0\n",
    "    length = 0\n",
    "\n",
    "    print('            & Size & Energy & Runtime \\\\\\\\\\\\hline')\n",
    "\n",
    "    prev = None\n",
    "    for (_,x), (_,y) in zip(x.iterrows(), y.iterrows()):\n",
    "        if prev != x['pin']:\n",
    "            pin = 'w/ pinning' if x['pin'] else 'w/o pinning'\n",
    "        else:\n",
    "            pin = ''\n",
    "        prev = x['pin']\n",
    "        \n",
    "        size = x['size']\n",
    "        energy_speedup = 100 - int(x['energy'] / y['energy'] * 100)\n",
    "        runtime_speedup = 100 - int(x['runtime'] / y['runtime'] * 100)\n",
    "        energy_total += energy_speedup\n",
    "        runtime_total += runtime_speedup\n",
    "        length += 1\n",
    "        print(f'{pin:<11} & {size:>4} & {energy_speedup:>4}\\\\% & {runtime_speedup:>5}\\\\% \\\\\\\\')\n",
    "\n",
    "    print(f'Energy avg speedup: {energy_total / length}%')\n",
    "    print(f'Runtime avg speedup: {runtime_total / length}%')\n",
    "\n",
    "compare('oracle', 'mt')\n",
    "print()\n",
    "compare('mt', 'rt')"
   ]
  },
  {
   "cell_type": "code",
   "execution_count": null,
   "id": "e6ac4121-059a-4dd2-b3fa-be61611df1ed",
   "metadata": {},
   "outputs": [],
   "source": []
  }
 ],
 "metadata": {
  "kernelspec": {
   "display_name": "Python 3 (ipykernel)",
   "language": "python",
   "name": "python3"
  },
  "language_info": {
   "codemirror_mode": {
    "name": "ipython",
    "version": 3
   },
   "file_extension": ".py",
   "mimetype": "text/x-python",
   "name": "python",
   "nbconvert_exporter": "python",
   "pygments_lexer": "ipython3",
   "version": "3.12.3"
  }
 },
 "nbformat": 4,
 "nbformat_minor": 5
}
