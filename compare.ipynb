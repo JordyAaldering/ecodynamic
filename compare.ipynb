{
 "cells": [
  {
   "cell_type": "code",
   "execution_count": 1,
   "id": "eca0a48d-160b-49c3-b4fa-2f75debe58d1",
   "metadata": {},
   "outputs": [],
   "source": [
    "import pandas as pd"
   ]
  },
  {
   "cell_type": "code",
   "execution_count": 2,
   "id": "b38ec651-c1e2-4dc0-8a49-f0bdb045c328",
   "metadata": {},
   "outputs": [],
   "source": [
    "df = pd.read_csv('data/compare.csv')"
   ]
  },
  {
   "cell_type": "code",
   "execution_count": 3,
   "id": "5a96cc8a-b36e-46ce-a65e-267406dd7209",
   "metadata": {},
   "outputs": [
    {
     "name": "stdout",
     "output_type": "stream",
     "text": [
      "mt vs oracle\n",
      "System configuration   & Matrix size        & Energy mt & Energy oracle & Runtime mt & Runtime oracle \\\\\\hline\n",
      "Without thread pinning & $ 500 \\times  500$ & 2.1396 & 2.1022 & 0.0489 & 0.0477 \\\\\n",
      "                       & $ 750 \\times  750$ & 7.0420 & 6.9674 & 0.1573 & 0.1548 \\\\\n",
      "                       & $1000 \\times 1000$ & 18.4308 & 18.2700 & 0.4187 & 0.4116 \\\\\n",
      "                       & $1250 \\times 1250$ & 40.0867 & 37.9082 & 1.0138 & 0.8828 \\\\\n",
      "                       & $1500 \\times 1500$ & 76.3255 & 69.9015 & 1.9632 & 1.6498 \\\\\n",
      "                       & $1750 \\times 1750$ & 123.1675 & 109.2619 & 3.1431 & 2.5382 \\\\\n",
      "With thread pinning    & $ 500 \\times  500$ & 2.1469 & 2.0941 & 0.0507 & 0.0477 \\\\\n",
      "                       & $ 750 \\times  750$ & 7.1384 & 6.9255 & 0.1662 & 0.1545 \\\\\n",
      "                       & $1000 \\times 1000$ & 18.5935 & 18.2109 & 0.4372 & 0.4142 \\\\\n",
      "                       & $1250 \\times 1250$ & 40.6431 & 39.6295 & 0.9950 & 0.9367 \\\\\n",
      "                       & $1500 \\times 1500$ & 81.3852 & 76.8176 & 2.1075 & 1.8904 \\\\\n",
      "                       & $1750 \\times 1750$ & 131.1224 & 125.3960 & 3.3362 & 3.0757 \\\\\n",
      "\n",
      "mt vs rt\n",
      "System configuration   & Matrix size        & Energy mt & Energy rt & Runtime mt & Runtime rt \\\\\\hline\n",
      "Without thread pinning & $ 500 \\times  500$ & 2.1396 & 2.1285 & 0.0489 & 0.0493 \\\\\n",
      "                       & $ 750 \\times  750$ & 7.0420 & 7.1799 & 0.1573 & 0.1613 \\\\\n",
      "                       & $1000 \\times 1000$ & 18.4308 & 18.5000 & 0.4187 & 0.4190 \\\\\n",
      "                       & $1250 \\times 1250$ & 40.0867 & 40.1273 & 1.0138 & 1.0594 \\\\\n",
      "                       & $1500 \\times 1500$ & 76.3255 & 74.8575 & 1.9632 & 2.0249 \\\\\n",
      "                       & $1750 \\times 1750$ & 123.1675 & 118.6504 & 3.1431 & 3.1304 \\\\\n",
      "With thread pinning    & $ 500 \\times  500$ & 2.1469 & 2.1619 & 0.0507 & 0.0528 \\\\\n",
      "                       & $ 750 \\times  750$ & 7.1384 & 7.1855 & 0.1662 & 0.1726 \\\\\n",
      "                       & $1000 \\times 1000$ & 18.5935 & 18.8218 & 0.4372 & 0.4590 \\\\\n",
      "                       & $1250 \\times 1250$ & 40.6431 & 41.8114 & 0.9950 & 1.0710 \\\\\n",
      "                       & $1500 \\times 1500$ & 81.3852 & 84.5913 & 2.1075 & 2.2823 \\\\\n",
      "                       & $1750 \\times 1750$ & 131.1224 & 135.4221 & 3.3362 & 3.5903 \\\\\n"
     ]
    }
   ],
   "source": [
    "def totals(lhs, rhs):\n",
    "    print(lhs, 'vs', rhs)\n",
    "    x = df[df['type'] == lhs].copy().reset_index(drop=True)\n",
    "    y = df[df['type'] == rhs].copy().reset_index(drop=True)\n",
    "\n",
    "    print(f'System configuration   & Matrix size        & Energy {lhs} & Energy {rhs} & Runtime {lhs} & Runtime {rhs} \\\\\\\\\\\\hline')\n",
    "    \n",
    "    prev = None\n",
    "    for (_,x), (_,y) in zip(x.iterrows(), y.iterrows()):\n",
    "        if prev != x['pin']:\n",
    "            pin = ('With' if x['pin'] else 'Without') + ' thread pinning'\n",
    "        else:\n",
    "            pin = ''\n",
    "        prev = x['pin']\n",
    "        print(f'{pin:<22} & ${x['size']:>4} \\\\times {x['size']:>4}$ & {x['energy']:.4f} & {y['energy']:.4f} & {x['runtime']:.4f} & {y['runtime']:.4f} \\\\\\\\')\n",
    "\n",
    "totals('mt', 'oracle')\n",
    "print()\n",
    "totals('mt', 'rt')"
   ]
  },
  {
   "cell_type": "code",
   "execution_count": 4,
   "id": "9a178cca-a362-4080-8aa8-6a7dc0eb2dec",
   "metadata": {},
   "outputs": [
    {
     "name": "stdout",
     "output_type": "stream",
     "text": [
      "oracle vs mt\n",
      "System configuration   & Matrix size        & Energy & Runtime \\\\\\hline\n",
      "Without thread pinning & $ 500 \\times  500$ &    2\\% &     3\\% \\\\\n",
      "                       & $ 750 \\times  750$ &    2\\% &     2\\% \\\\\n",
      "                       & $1000 \\times 1000$ &    1\\% &     2\\% \\\\\n",
      "                       & $1250 \\times 1250$ &    6\\% &    13\\% \\\\\n",
      "                       & $1500 \\times 1500$ &    9\\% &    16\\% \\\\\n",
      "                       & $1750 \\times 1750$ &   12\\% &    20\\% \\\\\n",
      "With thread pinning    & $ 500 \\times  500$ &    3\\% &     6\\% \\\\\n",
      "                       & $ 750 \\times  750$ &    3\\% &     8\\% \\\\\n",
      "                       & $1000 \\times 1000$ &    3\\% &     6\\% \\\\\n",
      "                       & $1250 \\times 1250$ &    3\\% &     6\\% \\\\\n",
      "                       & $1500 \\times 1500$ &    6\\% &    11\\% \\\\\n",
      "                       & $1750 \\times 1750$ &    5\\% &     8\\% \\\\\n",
      "Energy avg speedup: 4.583333333333333%\n",
      "Runtime avg speedup: 8.416666666666666%\n",
      "\n",
      "mt vs rt\n",
      "System configuration   & Matrix size        & Energy & Runtime \\\\\\hline\n",
      "Without thread pinning & $ 500 \\times  500$ &    0\\% &     1\\% \\\\\n",
      "                       & $ 750 \\times  750$ &    2\\% &     3\\% \\\\\n",
      "                       & $1000 \\times 1000$ &    1\\% &     1\\% \\\\\n",
      "                       & $1250 \\times 1250$ &    1\\% &     5\\% \\\\\n",
      "                       & $1500 \\times 1500$ &   -1\\% &     4\\% \\\\\n",
      "                       & $1750 \\times 1750$ &   -3\\% &     0\\% \\\\\n",
      "With thread pinning    & $ 500 \\times  500$ &    1\\% &     4\\% \\\\\n",
      "                       & $ 750 \\times  750$ &    1\\% &     4\\% \\\\\n",
      "                       & $1000 \\times 1000$ &    2\\% &     5\\% \\\\\n",
      "                       & $1250 \\times 1250$ &    3\\% &     8\\% \\\\\n",
      "                       & $1500 \\times 1500$ &    4\\% &     8\\% \\\\\n",
      "                       & $1750 \\times 1750$ &    4\\% &     8\\% \\\\\n",
      "Energy avg speedup: 1.25%\n",
      "Runtime avg speedup: 4.25%\n"
     ]
    }
   ],
   "source": [
    "def compare(lhs, rhs):\n",
    "    print(lhs, 'vs', rhs)\n",
    "    x = df[df['type'] == lhs].copy().reset_index(drop=True)\n",
    "    y = df[df['type'] == rhs].copy().reset_index(drop=True)\n",
    "    \n",
    "    #x = df[(df['type'] == lhs) & (df['size'] <= 1250)].copy().reset_index(drop=True)\n",
    "    #y = df[(df['type'] == rhs) & (df['size'] <= 1250)].copy().reset_index(drop=True)\n",
    "\n",
    "    runtime_total = 0\n",
    "    energy_total = 0\n",
    "    length = 0\n",
    "\n",
    "    print('System configuration   & Matrix size        & Energy & Runtime \\\\\\\\\\\\hline')\n",
    "\n",
    "    prev = None\n",
    "    for (_,x), (_,y) in zip(x.iterrows(), y.iterrows()):\n",
    "        if prev != x['pin']:\n",
    "            pin = ('With' if x['pin'] else 'Without') + ' thread pinning'\n",
    "        else:\n",
    "            pin = ''\n",
    "        prev = x['pin']\n",
    "        \n",
    "        size = x['size']\n",
    "        energy_speedup = 100 - int(x['energy'] / y['energy'] * 100)\n",
    "        runtime_speedup = 100 - int(x['runtime'] / y['runtime'] * 100)\n",
    "        energy_total += energy_speedup\n",
    "        runtime_total += runtime_speedup\n",
    "        length += 1\n",
    "        print(f'{pin:<22} & ${x['size']:>4} \\\\times {x['size']:>4}$ & {energy_speedup:>4}\\\\% & {runtime_speedup:>5}\\\\% \\\\\\\\')\n",
    "\n",
    "    print(f'Energy avg speedup: {energy_total / length}%')\n",
    "    print(f'Runtime avg speedup: {runtime_total / length}%')\n",
    "\n",
    "compare('oracle', 'mt')\n",
    "print()\n",
    "compare('mt', 'rt')"
   ]
  },
  {
   "cell_type": "code",
   "execution_count": null,
   "id": "c4f043cd-f64b-44b0-b87e-a277ae71bab3",
   "metadata": {},
   "outputs": [],
   "source": []
  }
 ],
 "metadata": {
  "kernelspec": {
   "display_name": "Python 3 (ipykernel)",
   "language": "python",
   "name": "python3"
  },
  "language_info": {
   "codemirror_mode": {
    "name": "ipython",
    "version": 3
   },
   "file_extension": ".py",
   "mimetype": "text/x-python",
   "name": "python",
   "nbconvert_exporter": "python",
   "pygments_lexer": "ipython3",
   "version": "3.12.3"
  }
 },
 "nbformat": 4,
 "nbformat_minor": 5
}
