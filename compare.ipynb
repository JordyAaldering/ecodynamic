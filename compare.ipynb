{
 "cells": [
  {
   "cell_type": "code",
   "execution_count": 2,
   "id": "eca0a48d-160b-49c3-b4fa-2f75debe58d1",
   "metadata": {},
   "outputs": [],
   "source": [
    "import pandas as pd\n",
    "import seaborn as sns\n",
    "import matplotlib.pyplot as plt"
   ]
  },
  {
   "cell_type": "code",
   "execution_count": 3,
   "id": "b38ec651-c1e2-4dc0-8a49-f0bdb045c328",
   "metadata": {},
   "outputs": [],
   "source": [
    "df = pd.read_csv('data/compare.csv')"
   ]
  },
  {
   "cell_type": "code",
   "execution_count": 4,
   "id": "5a96cc8a-b36e-46ce-a65e-267406dd7209",
   "metadata": {},
   "outputs": [
    {
     "name": "stdout",
     "output_type": "stream",
     "text": [
      "mt vs oracle\n",
      "            & Size & Energy mt & Energy oracle & Runtime mt & Runtime oracle \\\\\\hline\n",
      "w/o pinning &  500 & 2.0695 & 2.0307 & 0.0475 & 0.0472 \\\\\n",
      "            &  750 & 6.8547 & 6.7940 & 0.1547 & 0.1535 \\\\\n",
      "            & 1000 & 18.0422 & 17.9634 & 0.4126 & 0.4104 \\\\\n",
      "            & 1250 & 42.5874 & 37.1708 & 1.0265 & 0.8792 \\\\\n",
      "            & 1500 & 91.0001 & 67.2763 & 2.3123 & 1.6099 \\\\\n",
      "w/ pinning  &  500 & 2.0726 & 2.0744 & 0.0479 & 0.0487 \\\\\n",
      "            &  750 & 6.8168 & 6.9103 & 0.1535 & 0.1557 \\\\\n",
      "            & 1000 & 17.9080 & 17.9976 & 0.4114 & 0.4113 \\\\\n",
      "            & 1250 & 42.6129 & 38.9457 & 1.0276 & 0.9395 \\\\\n",
      "            & 1500 & 92.0240 & 77.0165 & 2.3709 & 1.9449 \\\\\n",
      "\n",
      "mt vs rt\n",
      "            & Size & Energy mt & Energy rt & Runtime mt & Runtime rt \\\\\\hline\n",
      "w/o pinning &  500 & 2.0695 & 2.1014 & 0.0475 & 0.0503 \\\\\n",
      "            &  750 & 6.8547 & 7.1863 & 0.1547 & 0.1666 \\\\\n",
      "            & 1000 & 18.0422 & 18.1534 & 0.4126 & 0.4212 \\\\\n",
      "            & 1250 & 42.5874 & 41.5668 & 1.0265 & 1.1715 \\\\\n",
      "            & 1500 & 91.0001 & 80.0535 & 2.3123 & 2.3493 \\\\\n",
      "w/ pinning  &  500 & 2.0726 & 2.3261 & 0.0479 & 0.0600 \\\\\n",
      "            &  750 & 6.8168 & 7.3532 & 0.1535 & 0.1894 \\\\\n",
      "            & 1000 & 17.9080 & 19.0917 & 0.4114 & 0.4997 \\\\\n",
      "            & 1250 & 42.6129 & 43.2835 & 1.0276 & 1.1856 \\\\\n",
      "            & 1500 & 92.0240 & 88.0551 & 2.3709 & 2.5562 \\\\\n"
     ]
    }
   ],
   "source": [
    "def totals(lhs, rhs):\n",
    "    print(lhs, 'vs', rhs)\n",
    "    x = df[df['type'] == lhs].copy().reset_index(drop=True)\n",
    "    y = df[df['type'] == rhs].copy().reset_index(drop=True)\n",
    "\n",
    "    print(f'            & Size & Energy {lhs} & Energy {rhs} & Runtime {lhs} & Runtime {rhs} \\\\\\\\\\\\hline')\n",
    "    \n",
    "    prev = None\n",
    "    for (_,x), (_,y) in zip(x.iterrows(), y.iterrows()):\n",
    "        if prev != x['pin']:\n",
    "            pin = 'w/ pinning' if x['pin'] else 'w/o pinning'\n",
    "        else:\n",
    "            pin = ''\n",
    "        prev = x['pin']\n",
    "        print(f'{pin:<11} & {x['size']:>4} & {x['energy']:.4f} & {y['energy']:.4f} & {x['runtime']:.4f} & {y['runtime']:.4f} \\\\\\\\')\n",
    "\n",
    "totals('mt', 'oracle')\n",
    "print()\n",
    "totals('mt', 'rt')"
   ]
  },
  {
   "cell_type": "code",
   "execution_count": 17,
   "id": "9a178cca-a362-4080-8aa8-6a7dc0eb2dec",
   "metadata": {},
   "outputs": [
    {
     "name": "stdout",
     "output_type": "stream",
     "text": [
      "oracle vs mt\n",
      "            & Size & Energy & Runtime \\\\\\hline\n",
      "w/o pinning &  500 &     2% &      1% \\\\\n",
      "            &  750 &     1% &      1% \\\\\n",
      "            & 1000 &     1% &      1% \\\\\n",
      "            & 1250 &    13% &     15% \\\\\n",
      "            & 1500 &    27% &     31% \\\\\n",
      "w/ pinning  &  500 &     0% &     -1% \\\\\n",
      "            &  750 &    -1% &     -1% \\\\\n",
      "            & 1000 &     0% &      1% \\\\\n",
      "            & 1250 &     9% &      9% \\\\\n",
      "            & 1500 &    17% &     18% \\\\\n",
      "Energy avg speedup: 6.9%\n",
      "Runtime avg speedup: 7.5%\n",
      "\n",
      "mt vs rt\n",
      "            & Size & Energy & Runtime \\\\\\hline\n",
      "w/o pinning &  500 &     2% &      6% \\\\\n",
      "            &  750 &     5% &      8% \\\\\n",
      "            & 1000 &     1% &      3% \\\\\n",
      "            & 1250 &    -2% &     13% \\\\\n",
      "            & 1500 &   -13% &      2% \\\\\n",
      "w/ pinning  &  500 &    11% &     21% \\\\\n",
      "            &  750 &     8% &     19% \\\\\n",
      "            & 1000 &     7% &     18% \\\\\n",
      "            & 1250 &     2% &     14% \\\\\n",
      "            & 1500 &    -4% &      8% \\\\\n",
      "Energy avg speedup: 1.7%\n",
      "Runtime avg speedup: 11.2%\n"
     ]
    }
   ],
   "source": [
    "def compare(lhs, rhs):\n",
    "    print(lhs, 'vs', rhs)\n",
    "    x = df[df['type'] == lhs].copy().reset_index(drop=True)\n",
    "    y = df[df['type'] == rhs].copy().reset_index(drop=True)\n",
    "\n",
    "    runtime_total = 0\n",
    "    energy_total = 0\n",
    "    length = 0\n",
    "\n",
    "    print('            & Size & Energy & Runtime \\\\\\\\\\\\hline')\n",
    "\n",
    "    prev = None\n",
    "    for (_,x), (_,y) in zip(x.iterrows(), y.iterrows()):\n",
    "        if prev != x['pin']:\n",
    "            pin = 'w/ pinning' if x['pin'] else 'w/o pinning'\n",
    "        else:\n",
    "            pin = ''\n",
    "        prev = x['pin']\n",
    "        \n",
    "        size = x['size']\n",
    "        energy_speedup = 100 - int(x['energy'] / y['energy'] * 100)\n",
    "        runtime_speedup = 100 - int(x['runtime'] / y['runtime'] * 100)\n",
    "        energy_total += energy_speedup\n",
    "        runtime_total += runtime_speedup\n",
    "        length += 1\n",
    "        print(f'{pin:<11} & {size:>4} & {energy_speedup:>5}% & {runtime_speedup:>6}% \\\\\\\\')\n",
    "\n",
    "    print(f'Energy avg speedup: {energy_total / length}%')\n",
    "    print(f'Runtime avg speedup: {runtime_total / length}%')\n",
    "\n",
    "compare('oracle', 'mt')\n",
    "print()\n",
    "compare('mt', 'rt')"
   ]
  },
  {
   "cell_type": "code",
   "execution_count": null,
   "id": "5eae74ac-aac1-4592-9c85-b38d0fe31088",
   "metadata": {},
   "outputs": [],
   "source": []
  }
 ],
 "metadata": {
  "kernelspec": {
   "display_name": "Python 3 (ipykernel)",
   "language": "python",
   "name": "python3"
  },
  "language_info": {
   "codemirror_mode": {
    "name": "ipython",
    "version": 3
   },
   "file_extension": ".py",
   "mimetype": "text/x-python",
   "name": "python",
   "nbconvert_exporter": "python",
   "pygments_lexer": "ipython3",
   "version": "3.12.3"
  }
 },
 "nbformat": 4,
 "nbformat_minor": 5
}
