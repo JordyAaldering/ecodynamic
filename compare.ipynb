{
 "cells": [
  {
   "cell_type": "code",
   "execution_count": 15,
   "id": "eca0a48d-160b-49c3-b4fa-2f75debe58d1",
   "metadata": {},
   "outputs": [],
   "source": [
    "import pandas as pd\n",
    "import seaborn as sns\n",
    "import matplotlib.pyplot as plt"
   ]
  },
  {
   "cell_type": "code",
   "execution_count": 16,
   "id": "b38ec651-c1e2-4dc0-8a49-f0bdb045c328",
   "metadata": {},
   "outputs": [],
   "source": [
    "df = pd.read_csv('data/compare.csv')"
   ]
  },
  {
   "cell_type": "code",
   "execution_count": 17,
   "id": "5a96cc8a-b36e-46ce-a65e-267406dd7209",
   "metadata": {},
   "outputs": [
    {
     "name": "stdout",
     "output_type": "stream",
     "text": [
      "mt vs oracle\n",
      "            & Size & Energy mt & Energy oracle & Runtime mt & Runtime oracle \\\\\\hline\n",
      "w/o pinning &  500 & 2.0695 & 2.0307 & 0.0475 & 0.0472 \\\\\n",
      "            &  750 & 6.8547 & 6.7940 & 0.1547 & 0.1535 \\\\\n",
      "            & 1000 & 18.0422 & 17.9634 & 0.4126 & 0.4104 \\\\\n",
      "            & 1250 & 42.5874 & 37.1708 & 1.0265 & 0.8792 \\\\\n",
      "            & 1500 & 91.0001 & 67.2763 & 2.3123 & 1.6099 \\\\\n",
      "w/ pinning  &  500 & 2.0726 & 2.0744 & 0.0479 & 0.0487 \\\\\n",
      "            &  750 & 6.8168 & 6.9103 & 0.1535 & 0.1557 \\\\\n",
      "            & 1000 & 17.9080 & 17.9976 & 0.4114 & 0.4113 \\\\\n",
      "            & 1250 & 42.6129 & 38.9457 & 1.0276 & 0.9395 \\\\\n",
      "            & 1500 & 92.0240 & 77.0165 & 2.3709 & 1.9449 \\\\\n",
      "\n",
      "mt vs rt\n",
      "            & Size & Energy mt & Energy rt & Runtime mt & Runtime rt \\\\\\hline\n",
      "w/o pinning &  500 & 2.0695 & 2.1014 & 0.0475 & 0.0503 \\\\\n",
      "            &  750 & 6.8547 & 7.1863 & 0.1547 & 0.1666 \\\\\n",
      "            & 1000 & 18.0422 & 18.1534 & 0.4126 & 0.4212 \\\\\n",
      "            & 1250 & 42.5874 & 41.5668 & 1.0265 & 1.1715 \\\\\n",
      "            & 1500 & 91.0001 & 80.0535 & 2.3123 & 2.3493 \\\\\n",
      "w/ pinning  &  500 & 2.0726 & 2.3261 & 0.0479 & 0.0600 \\\\\n",
      "            &  750 & 6.8168 & 7.3532 & 0.1535 & 0.1894 \\\\\n",
      "            & 1000 & 17.9080 & 19.0917 & 0.4114 & 0.4997 \\\\\n",
      "            & 1250 & 42.6129 & 43.2835 & 1.0276 & 1.1856 \\\\\n",
      "            & 1500 & 92.0240 & 88.0551 & 2.3709 & 2.5562 \\\\\n"
     ]
    }
   ],
   "source": [
    "def totals(lhs, rhs):\n",
    "    print(lhs, 'vs', rhs)\n",
    "    x = df[df['type'] == lhs].copy().reset_index(drop=True)\n",
    "    y = df[df['type'] == rhs].copy().reset_index(drop=True)\n",
    "\n",
    "    print(f'            & Size & Energy {lhs} & Energy {rhs} & Runtime {lhs} & Runtime {rhs} \\\\\\\\\\\\hline')\n",
    "    \n",
    "    prev = None\n",
    "    for (_,x), (_,y) in zip(x.iterrows(), y.iterrows()):\n",
    "        if prev != x['pin']:\n",
    "            pin = 'w/ pinning' if x['pin'] else 'w/o pinning'\n",
    "        else:\n",
    "            pin = ''\n",
    "        prev = x['pin']\n",
    "        print(f'{pin:<11} & {x['size']:>4} & {x['energy']:.4f} & {y['energy']:.4f} & {x['runtime']:.4f} & {y['runtime']:.4f} \\\\\\\\')\n",
    "\n",
    "totals('mt', 'oracle')\n",
    "print()\n",
    "totals('mt', 'rt')"
   ]
  },
  {
   "cell_type": "code",
   "execution_count": 18,
   "id": "9a178cca-a362-4080-8aa8-6a7dc0eb2dec",
   "metadata": {},
   "outputs": [
    {
     "name": "stdout",
     "output_type": "stream",
     "text": [
      "How many times is oracle better than mt\n",
      "            & Size & Energy speedup & Runtime speedup \\\\\\hline\n",
      "w/o pinning &  500 & 1.0191 & 1.0079 \\\\\n",
      "            &  750 & 1.0089 & 1.0079 \\\\\n",
      "            & 1000 & 1.0044 & 1.0052 \\\\\n",
      "            & 1250 & 1.1457 & 1.1675 \\\\\n",
      "            & 1500 & 1.3526 & 1.4363 \\\\\n",
      "w/ pinning  &  500 & 0.9991 & 0.9831 \\\\\n",
      "            &  750 & 0.9865 & 0.9853 \\\\\n",
      "            & 1000 & 0.9950 & 1.0002 \\\\\n",
      "            & 1250 & 1.0942 & 1.0938 \\\\\n",
      "            & 1500 & 1.1949 & 1.2190 \\\\\n",
      "Energy avg speedup:  1.0800404617809838\n",
      "Runtime avg speedup: 1.0906229683768331\n",
      "\n",
      "How many times is mt better than rt\n",
      "            & Size & Energy speedup & Runtime speedup \\\\\\hline\n",
      "w/o pinning &  500 & 1.0154 & 1.0574 \\\\\n",
      "            &  750 & 1.0484 & 1.0768 \\\\\n",
      "            & 1000 & 1.0062 & 1.0210 \\\\\n",
      "            & 1250 & 0.9760 & 1.1412 \\\\\n",
      "            & 1500 & 0.8797 & 1.0160 \\\\\n",
      "w/ pinning  &  500 & 1.1223 & 1.2531 \\\\\n",
      "            &  750 & 1.0787 & 1.2344 \\\\\n",
      "            & 1000 & 1.0661 & 1.2145 \\\\\n",
      "            & 1250 & 1.0157 & 1.1537 \\\\\n",
      "            & 1500 & 0.9569 & 1.0782 \\\\\n",
      "Energy avg speedup:  1.0165395861413142\n",
      "Runtime avg speedup: 1.1246445967632066\n"
     ]
    }
   ],
   "source": [
    "def compare(lhs, rhs):\n",
    "    print('How many times is', rhs, 'better than', lhs)\n",
    "    x = df[df['type'] == lhs].copy().reset_index(drop=True)\n",
    "    y = df[df['type'] == rhs].copy().reset_index(drop=True)\n",
    "\n",
    "    runtime_total = 0\n",
    "    energy_total = 0\n",
    "    length = 0\n",
    "\n",
    "    print('            & Size & Energy speedup & Runtime speedup \\\\\\\\\\\\hline')\n",
    "\n",
    "    prev = None\n",
    "    for (_,x), (_,y) in zip(x.iterrows(), y.iterrows()):\n",
    "        if prev != x['pin']:\n",
    "            pin = 'w/ pinning' if x['pin'] else 'w/o pinning'\n",
    "        else:\n",
    "            pin = ''\n",
    "        prev = x['pin']\n",
    "        \n",
    "        size = x['size']\n",
    "        energy_speedup = x['energy'] / y['energy']\n",
    "        runtime_speedup = x['runtime'] / y['runtime']\n",
    "        energy_total += energy_speedup\n",
    "        runtime_total += runtime_speedup\n",
    "        length += 1\n",
    "        print(f'{pin:<11} & {size:>4} & {energy_speedup:.4f} & {runtime_speedup:.4f} \\\\\\\\')\n",
    "\n",
    "    print('Energy avg speedup: ', energy_total / length)\n",
    "    print('Runtime avg speedup:', runtime_total / length)\n",
    "\n",
    "compare('mt', 'oracle')\n",
    "print()\n",
    "compare('rt', 'mt')"
   ]
  },
  {
   "cell_type": "code",
   "execution_count": null,
   "id": "5eae74ac-aac1-4592-9c85-b38d0fe31088",
   "metadata": {},
   "outputs": [],
   "source": []
  }
 ],
 "metadata": {
  "kernelspec": {
   "display_name": "Python 3 (ipykernel)",
   "language": "python",
   "name": "python3"
  },
  "language_info": {
   "codemirror_mode": {
    "name": "ipython",
    "version": 3
   },
   "file_extension": ".py",
   "mimetype": "text/x-python",
   "name": "python",
   "nbconvert_exporter": "python",
   "pygments_lexer": "ipython3",
   "version": "3.12.3"
  }
 },
 "nbformat": 4,
 "nbformat_minor": 5
}
